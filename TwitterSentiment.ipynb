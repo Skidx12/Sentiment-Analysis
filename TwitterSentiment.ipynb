{
  "nbformat": 4,
  "nbformat_minor": 0,
  "metadata": {
    "colab": {
      "name": "TwitterSentiment.ipynb",
      "provenance": [],
      "collapsed_sections": [],
      "toc_visible": true
    },
    "kernelspec": {
      "name": "python3",
      "display_name": "Python 3"
    }
  },
  "cells": [
    {
      "cell_type": "code",
      "metadata": {
        "id": "MnF4zB9z23j0"
      },
      "source": [
        "import re \n",
        "\n",
        "import tweepy \n",
        "\n",
        "from tweepy import OAuthHandler \n",
        "\n",
        "from textblob import TextBlob \n",
        "\n",
        "import matplotlib.pyplot as plt\n",
        "\n",
        "import pandas as pd\n",
        "\n",
        "from wordcloud import WordCloud"
      ],
      "execution_count": 1,
      "outputs": []
    },
    {
      "cell_type": "code",
      "metadata": {
        "id": "7UiZhCfV3YjD"
      },
      "source": [
        "# Your Twittter developer App Credentials\n",
        "consumer_key = '' #your consumer key\n",
        "consumer_secret = '' #your consumer secret key\n",
        "access_token = '' #your access token\n",
        "access_token_secret = '' #your access token secret"
      ],
      "execution_count": 2,
      "outputs": []
    },
    {
      "cell_type": "code",
      "metadata": {
        "id": "tSUonI593dOl"
      },
      "source": [
        "auth = tweepy.OAuthHandler(consumer_key, consumer_secret)\n",
        "auth.set_access_token(access_token, access_token_secret)\n",
        "\n",
        "api = tweepy.API(auth)"
      ],
      "execution_count": 3,
      "outputs": []
    },
    {
      "cell_type": "code",
      "metadata": {
        "id": "Vd7dnQEj3h9e"
      },
      "source": [
        "def remove_url(txt):\n",
        "    return \" \".join(re.sub(\"([^0-9A-Za-z \\t])|(\\w+:\\/\\/\\S+)\", \"\", txt).split())"
      ],
      "execution_count": 4,
      "outputs": []
    },
    {
      "cell_type": "code",
      "metadata": {
        "colab": {
          "base_uri": "https://localhost:8080/"
        },
        "id": "MrRt74CY3k3y",
        "outputId": "2d6ed533-e150-44af-e5b7-f3edb6bc58b8"
      },
      "source": [
        "word = input(\"Enter the word here: \")"
      ],
      "execution_count": 8,
      "outputs": [
        {
          "output_type": "stream",
          "text": [
            "Enter the word here: Depression\n"
          ],
          "name": "stdout"
        }
      ]
    },
    {
      "cell_type": "code",
      "metadata": {
        "colab": {
          "base_uri": "https://localhost:8080/"
        },
        "id": "eokl1jCW3uK1",
        "outputId": "b44bb7e8-6e5c-412f-c5e7-74965e000c68"
      },
      "source": [
        "filtered='word -filter:retweets'\n",
        "\n",
        "\n",
        "tweets = tweepy.Cursor(api.search,\n",
        "              q=filtered,\n",
        "              lang=\"en\").items(100)\n",
        "\n",
        "tweets"
      ],
      "execution_count": 7,
      "outputs": [
        {
          "output_type": "execute_result",
          "data": {
            "text/plain": [
              "<tweepy.cursor.ItemIterator at 0x7ff73e110240>"
            ]
          },
          "metadata": {
            "tags": []
          },
          "execution_count": 7
        }
      ]
    },
    {
      "cell_type": "code",
      "metadata": {
        "id": "7m7Pia233wX9"
      },
      "source": [
        "cleantweets = [remove_url(tweet.text) for tweet in tweets]"
      ],
      "execution_count": 9,
      "outputs": []
    },
    {
      "cell_type": "code",
      "metadata": {
        "id": "98gf9cae35Wo"
      },
      "source": [
        "sentiment_objects = [TextBlob(tweet) for tweet in cleantweets]\n",
        "\n",
        "sentiment_objects[0].polarity, sentiment_objects[0]"
      ],
      "execution_count": null,
      "outputs": []
    },
    {
      "cell_type": "code",
      "metadata": {
        "id": "4kskn7pw38vl"
      },
      "source": [
        "sentiment_values = [[tweet.sentiment.polarity, str(tweet)] for tweet in sentiment_objects]\n",
        "\n",
        "sentiment_values[0]\n",
        "\n",
        "sentiment_values[0:]"
      ],
      "execution_count": null,
      "outputs": []
    },
    {
      "cell_type": "code",
      "metadata": {
        "id": "_Nym-Xrw5rtX"
      },
      "source": [
        "sentiment_df = pd.DataFrame(sentiment_values, columns=[\"polarity\", \"tweet\"])\n",
        "\n",
        "sentiment_df"
      ],
      "execution_count": null,
      "outputs": []
    },
    {
      "cell_type": "code",
      "metadata": {
        "id": "w_hHT3hv6t00"
      },
      "source": [
        "n=sentiment_df[\"polarity\"]\n",
        "\n",
        "m=pd.Series(n)\n",
        "\n",
        "m"
      ],
      "execution_count": null,
      "outputs": []
    },
    {
      "cell_type": "code",
      "metadata": {
        "id": "UPIGR6uY7b1q"
      },
      "source": [
        "pos=0\n",
        "neg=0\n",
        "neu=0"
      ],
      "execution_count": 16,
      "outputs": []
    },
    {
      "cell_type": "code",
      "metadata": {
        "colab": {
          "base_uri": "https://localhost:8080/"
        },
        "id": "0iaDrI_LF_vP",
        "outputId": "0ff10997-6b28-469c-c454-43dfad5acecf"
      },
      "source": [
        "for items in m:\n",
        "    if items>0:\n",
        "        pos=pos+1\n",
        "    elif items<0:\n",
        "        neg=neg+1\n",
        "    else:\n",
        "        neu=neu+1\n",
        "        \n",
        "print('Pos: ',pos,' Neg: ',neg,' Neu:',neu)"
      ],
      "execution_count": 18,
      "outputs": []
    },
    {
      "cell_type": "code",
      "metadata": {
        "id": "d1SJSoDTGFRV"
      },
      "source": [
        "pieLabels=[\"Positive\",\"Negative\",\"Neutral\"]\n",
        "\n",
        "populationShare=[pos,neg,neu]\n",
        "\n",
        "figureObject, axesObject = plt.subplots()\n",
        "\n",
        "axesObject.pie(populationShare,labels=pieLabels,autopct='%1.2f',startangle=90)\n",
        "\n",
        "axesObject.axis('equal')\n",
        "\n",
        "plt.show()"
      ],
      "execution_count": null,
      "outputs": []
    },
    {
      "cell_type": "code",
      "metadata": {
        "id": "Sjjai38xGGnP"
      },
      "source": [
        "print(\"%d percent twitter users were feeling positive while posting their tweets \"%(pos/len(sentiment_values) *100))\n",
        "\n",
        "print(\"%d percent twitter users were feeling negative while posting their tweets\"%(neg/len(sentiment_values) *100))\n",
        "\n",
        "print(\"%d percent twitter users were Neutral while posting their tweets\"%(neu/len(sentiment_values) *100))"
      ],
      "execution_count": null,
      "outputs": []
    },
    {
      "cell_type": "code",
      "metadata": {
        "id": "TRTpNnxFGJXl"
      },
      "source": [
        "fig, ax = plt.subplots(figsize=(10, 6))\n",
        "\n",
        "# Plot histogram of the polarity values\n",
        "sentiment_df.hist(bins=[-1, -0.75, -0.5, -0.25, 0.25, 0.5, 0.75, 1],\n",
        "             ax=ax,\n",
        "             color=\"purple\")\n",
        "\n",
        "plt.title(\"Range of Sentiment polarity from the Tweets\")\n",
        "plt.show()"
      ],
      "execution_count": null,
      "outputs": []
    },
    {
      "cell_type": "code",
      "metadata": {
        "id": "4WOYo2fwGMqQ"
      },
      "source": [
        "all_words = ' '.join([text for text in cleantweets])\n",
        "wordcloud = WordCloud(width=800, height=500, random_state=21, max_font_size=110).generate(all_words)\n",
        "\n",
        "plt.figure(figsize=(15, 7))\n",
        "plt.imshow(wordcloud, interpolation=\"bilinear\")\n",
        "plt.axis('off')\n",
        "plt.show()"
      ],
      "execution_count": null,
      "outputs": []
    },
    {
      "cell_type": "code",
      "metadata": {
        "id": "g-2aXXirGO5w"
      },
      "source": [
        ""
      ],
      "execution_count": null,
      "outputs": []
    }
  ]
}
